{
 "cells": [
  {
   "cell_type": "code",
   "execution_count": 1,
   "metadata": {},
   "outputs": [],
   "source": [
    "import pandas as pd\n",
    "import numpy as np\n",
    "import seaborn as sns\n",
    "import re\n",
    "import string\n",
    "from string import punctuation\n",
    "import nltk\n",
    "from nltk.corpus import stopwords\n",
    "import matplotlib.pyplot as plt\n",
    "\n",
    "from sklearn.model_selection import train_test_split\n",
    "from sklearn.feature_extraction.text import CountVectorizer\n",
    "from sklearn.feature_extraction.text import TfidfTransformer\n",
    "from sklearn.neighbors import KNeighborsClassifier\n",
    "from sklearn.naive_bayes import GaussianNB\n",
    "from sklearn.svm import LinearSVC\n",
    "from sklearn.pipeline import make_pipeline\n",
    "from sklearn.preprocessing import StandardScaler\n",
    "\n",
    "import tensorflow as tf\n",
    "from tensorflow.keras.models import Sequential\n",
    "from tensorflow.keras.layers import Dense, Activation, Dropout\n",
    "from sklearn.preprocessing import StandardScaler\n",
    "\n",
    "from matplotlib import style\n",
    "style.use('dark_background')\n",
    "pd.set_option('display.max_columns', 150)\n",
    "pd.set_option('display.max_rows', 150)\n",
    "style.use('dark_background')"
   ]
  },
  {
   "cell_type": "code",
   "execution_count": 2,
   "metadata": {},
   "outputs": [
    {
     "name": "stdout",
     "output_type": "stream",
     "text": [
      "     Platform  Userscore                                            Comment\n",
      "0  Nintendo64   0.760493  Everything in OoT is so near at perfection, it...\n",
      "1  Nintendo64   0.760493  I won't bore you with what everyone is already...\n",
      "2  Nintendo64   0.760493  Anyone who gives the masterpiece below a 7 or ...\n",
      "3  Nintendo64   0.760493  I'm one of those people who think that this is...\n",
      "4  Nintendo64   0.760493   This game is the highest rated game on Metacr... count    2.839600e+05\n",
      "mean    -2.562318e-17\n",
      "std      1.000002e+00\n",
      "min     -2.432663e+00\n",
      "25%     -1.974537e-01\n",
      "50%      4.411776e-01\n",
      "75%      7.604933e-01\n",
      "max      7.604933e-01\n",
      "Name: Userscore, dtype: float64\n"
     ]
    }
   ],
   "source": [
    "#reads document and standardizes user scores\n",
    "\n",
    "df = pd.read_csv('gamereviews.csv')\n",
    "df = df.drop(df.columns[[0, 1, 5]], axis=1)\n",
    "df.dropna(inplace=True)\n",
    "df['Userscore'] = StandardScaler().fit_transform(df[['Userscore']])\n",
    "\n",
    "print(df.head(), df['Userscore'].describe())"
   ]
  },
  {
   "cell_type": "code",
   "execution_count": 3,
   "metadata": {},
   "outputs": [
    {
     "data": {
      "text/html": [
       "<div>\n",
       "<style scoped>\n",
       "    .dataframe tbody tr th:only-of-type {\n",
       "        vertical-align: middle;\n",
       "    }\n",
       "\n",
       "    .dataframe tbody tr th {\n",
       "        vertical-align: top;\n",
       "    }\n",
       "\n",
       "    .dataframe thead th {\n",
       "        text-align: right;\n",
       "    }\n",
       "</style>\n",
       "<table border=\"1\" class=\"dataframe\">\n",
       "  <thead>\n",
       "    <tr style=\"text-align: right;\">\n",
       "      <th></th>\n",
       "      <th>Platform</th>\n",
       "      <th>Userscore</th>\n",
       "      <th>Comment</th>\n",
       "      <th>Polarity</th>\n",
       "    </tr>\n",
       "  </thead>\n",
       "  <tbody>\n",
       "    <tr>\n",
       "      <th>0</th>\n",
       "      <td>Nintendo64</td>\n",
       "      <td>0.760493</td>\n",
       "      <td>Everything in OoT is so near at perfection, it...</td>\n",
       "      <td>Positive</td>\n",
       "    </tr>\n",
       "    <tr>\n",
       "      <th>1</th>\n",
       "      <td>Nintendo64</td>\n",
       "      <td>0.760493</td>\n",
       "      <td>I won't bore you with what everyone is already...</td>\n",
       "      <td>Positive</td>\n",
       "    </tr>\n",
       "    <tr>\n",
       "      <th>2</th>\n",
       "      <td>Nintendo64</td>\n",
       "      <td>0.760493</td>\n",
       "      <td>Anyone who gives the masterpiece below a 7 or ...</td>\n",
       "      <td>Positive</td>\n",
       "    </tr>\n",
       "    <tr>\n",
       "      <th>3</th>\n",
       "      <td>Nintendo64</td>\n",
       "      <td>0.760493</td>\n",
       "      <td>I'm one of those people who think that this is...</td>\n",
       "      <td>Positive</td>\n",
       "    </tr>\n",
       "    <tr>\n",
       "      <th>4</th>\n",
       "      <td>Nintendo64</td>\n",
       "      <td>0.760493</td>\n",
       "      <td>This game is the highest rated game on Metacr...</td>\n",
       "      <td>Positive</td>\n",
       "    </tr>\n",
       "  </tbody>\n",
       "</table>\n",
       "</div>"
      ],
      "text/plain": [
       "     Platform  Userscore                                            Comment  \\\n",
       "0  Nintendo64   0.760493  Everything in OoT is so near at perfection, it...   \n",
       "1  Nintendo64   0.760493  I won't bore you with what everyone is already...   \n",
       "2  Nintendo64   0.760493  Anyone who gives the masterpiece below a 7 or ...   \n",
       "3  Nintendo64   0.760493  I'm one of those people who think that this is...   \n",
       "4  Nintendo64   0.760493   This game is the highest rated game on Metacr...   \n",
       "\n",
       "   Polarity  \n",
       "0  Positive  \n",
       "1  Positive  \n",
       "2  Positive  \n",
       "3  Positive  \n",
       "4  Positive  "
      ]
     },
     "execution_count": 3,
     "metadata": {},
     "output_type": "execute_result"
    }
   ],
   "source": [
    "#converts scores to sentiment\n",
    "\n",
    "df['Polarity'] = df['Userscore'].apply(lambda x: 'Positive' if (x > .76) else('Neutral' if (x <= .76) and (x >= -.197)  else 'Negative'))\n",
    "df.head()"
   ]
  },
  {
   "cell_type": "code",
   "execution_count": 4,
   "metadata": {},
   "outputs": [
    {
     "data": {
      "text/plain": [
       "<AxesSubplot:>"
      ]
     },
     "execution_count": 4,
     "metadata": {},
     "output_type": "execute_result"
    },
    {
     "data": {
      "image/png": "[encoded data removed]",
      "text/plain": [
       "<Figure size 432x288 with 1 Axes>"
      ]
     },
     "metadata": {},
     "output_type": "display_data"
    }
   ],
   "source": [
    "df['Polarity'].hist()"
   ]
  },
  {
   "cell_type": "code",
   "execution_count": 5,
   "metadata": {},
   "outputs": [],
   "source": [
    "#function to get rid of stopwords and all non-letter characters\n",
    "\n",
    "def get_text_processing(text):\n",
    "    stpword = stopwords.words('english')\n",
    "    no_punctuation = [char for char in text if char not in string.punctuation]\n",
    "    no_punctuation = ''.join(no_punctuation)\n",
    "    return ' '.join([word for word in no_punctuation.split() if word.lower() not in stpword])"
   ]
  },
  {
   "cell_type": "code",
   "execution_count": 6,
   "metadata": {},
   "outputs": [
    {
     "data": {
      "text/html": [
       "<div>\n",
       "<style scoped>\n",
       "    .dataframe tbody tr th:only-of-type {\n",
       "        vertical-align: middle;\n",
       "    }\n",
       "\n",
       "    .dataframe tbody tr th {\n",
       "        vertical-align: top;\n",
       "    }\n",
       "\n",
       "    .dataframe thead th {\n",
       "        text-align: right;\n",
       "    }\n",
       "</style>\n",
       "<table border=\"1\" class=\"dataframe\">\n",
       "  <thead>\n",
       "    <tr style=\"text-align: right;\">\n",
       "      <th></th>\n",
       "      <th>Platform</th>\n",
       "      <th>Userscore</th>\n",
       "      <th>Comment</th>\n",
       "      <th>Polarity</th>\n",
       "    </tr>\n",
       "  </thead>\n",
       "  <tbody>\n",
       "    <tr>\n",
       "      <th>0</th>\n",
       "      <td>Nintendo64</td>\n",
       "      <td>0.760493</td>\n",
       "      <td>everything oot near perfection really wonder g...</td>\n",
       "      <td>Positive</td>\n",
       "    </tr>\n",
       "    <tr>\n",
       "      <th>1</th>\n",
       "      <td>Nintendo64</td>\n",
       "      <td>0.760493</td>\n",
       "      <td>wont bore everyone already saying amazing game...</td>\n",
       "      <td>Positive</td>\n",
       "    </tr>\n",
       "    <tr>\n",
       "      <th>2</th>\n",
       "      <td>Nintendo64</td>\n",
       "      <td>0.760493</td>\n",
       "      <td>anyone gives masterpiece 7 8 either hate astou...</td>\n",
       "      <td>Positive</td>\n",
       "    </tr>\n",
       "    <tr>\n",
       "      <th>3</th>\n",
       "      <td>Nintendo64</td>\n",
       "      <td>0.760493</td>\n",
       "      <td>im one people think greatest game time matter ...</td>\n",
       "      <td>Positive</td>\n",
       "    </tr>\n",
       "    <tr>\n",
       "      <th>4</th>\n",
       "      <td>Nintendo64</td>\n",
       "      <td>0.760493</td>\n",
       "      <td>game highest rated game metacritic good reason...</td>\n",
       "      <td>Positive</td>\n",
       "    </tr>\n",
       "  </tbody>\n",
       "</table>\n",
       "</div>"
      ],
      "text/plain": [
       "     Platform  Userscore                                            Comment  \\\n",
       "0  Nintendo64   0.760493  everything oot near perfection really wonder g...   \n",
       "1  Nintendo64   0.760493  wont bore everyone already saying amazing game...   \n",
       "2  Nintendo64   0.760493  anyone gives masterpiece 7 8 either hate astou...   \n",
       "3  Nintendo64   0.760493  im one people think greatest game time matter ...   \n",
       "4  Nintendo64   0.760493  game highest rated game metacritic good reason...   \n",
       "\n",
       "   Polarity  \n",
       "0  Positive  \n",
       "1  Positive  \n",
       "2  Positive  \n",
       "3  Positive  \n",
       "4  Positive  "
      ]
     },
     "execution_count": 6,
     "metadata": {},
     "output_type": "execute_result"
    }
   ],
   "source": [
    "#applies function and also converts all letters to lowercase\n",
    "\n",
    "df['Comment'] = df['Comment'].apply(get_text_processing)\n",
    "df['Comment'] = df['Comment'].str.lower()\n",
    "df.head()"
   ]
  },
  {
   "cell_type": "code",
   "execution_count": 7,
   "metadata": {},
   "outputs": [
    {
     "data": {
      "text/plain": [
       "0    2\n",
       "1    2\n",
       "2    2\n",
       "3    2\n",
       "4    2\n",
       "Name: Userscore, dtype: int64"
      ]
     },
     "execution_count": 7,
     "metadata": {},
     "output_type": "execute_result"
    }
   ],
   "source": [
    "#for sparse categorical cross entropy loss function\n",
    "\n",
    "n = df['Userscore'].apply(lambda x: 2 if (x > .76) else(1 if (x <= .76) and (x >= -.197)  else 0))\n",
    "n.head()"
   ]
  },
  {
   "cell_type": "code",
   "execution_count": 8,
   "metadata": {},
   "outputs": [
    {
     "data": {
      "image/png": "[encoded data removed]",
      "text/plain": [
       "<Figure size 432x288 with 1 Axes>"
      ]
     },
     "metadata": {},
     "output_type": "display_data"
    }
   ],
   "source": [
    "from PIL import Image\n",
    "from wordcloud import WordCloud, STOPWORDS, ImageColorGenerator\n",
    "\n",
    "# Create and generate a word cloud image:\n",
    "wordcloud = WordCloud().generate(' '.join(df['Comment']))\n",
    "\n",
    "# Display the generated image:\n",
    "plt.imshow(wordcloud)\n",
    "plt.axis(\"off\")\n",
    "plt.show()"
   ]
  },
  {
   "cell_type": "code",
   "execution_count": 9,
   "metadata": {},
   "outputs": [
    {
     "data": {
      "text/html": [
       "<div>\n",
       "<style scoped>\n",
       "    .dataframe tbody tr th:only-of-type {\n",
       "        vertical-align: middle;\n",
       "    }\n",
       "\n",
       "    .dataframe tbody tr th {\n",
       "        vertical-align: top;\n",
       "    }\n",
       "\n",
       "    .dataframe thead th {\n",
       "        text-align: right;\n",
       "    }\n",
       "</style>\n",
       "<table border=\"1\" class=\"dataframe\">\n",
       "  <thead>\n",
       "    <tr style=\"text-align: right;\">\n",
       "      <th></th>\n",
       "      <th>Comment</th>\n",
       "      <th>Negative</th>\n",
       "      <th>Neutral</th>\n",
       "      <th>Positive</th>\n",
       "    </tr>\n",
       "  </thead>\n",
       "  <tbody>\n",
       "    <tr>\n",
       "      <th>0</th>\n",
       "      <td>everything oot near perfection really wonder g...</td>\n",
       "      <td>0</td>\n",
       "      <td>0</td>\n",
       "      <td>1</td>\n",
       "    </tr>\n",
       "    <tr>\n",
       "      <th>1</th>\n",
       "      <td>wont bore everyone already saying amazing game...</td>\n",
       "      <td>0</td>\n",
       "      <td>0</td>\n",
       "      <td>1</td>\n",
       "    </tr>\n",
       "    <tr>\n",
       "      <th>2</th>\n",
       "      <td>anyone gives masterpiece 7 8 either hate astou...</td>\n",
       "      <td>0</td>\n",
       "      <td>0</td>\n",
       "      <td>1</td>\n",
       "    </tr>\n",
       "    <tr>\n",
       "      <th>3</th>\n",
       "      <td>im one people think greatest game time matter ...</td>\n",
       "      <td>0</td>\n",
       "      <td>0</td>\n",
       "      <td>1</td>\n",
       "    </tr>\n",
       "    <tr>\n",
       "      <th>4</th>\n",
       "      <td>game highest rated game metacritic good reason...</td>\n",
       "      <td>0</td>\n",
       "      <td>0</td>\n",
       "      <td>1</td>\n",
       "    </tr>\n",
       "    <tr>\n",
       "      <th>...</th>\n",
       "      <td>...</td>\n",
       "      <td>...</td>\n",
       "      <td>...</td>\n",
       "      <td>...</td>\n",
       "    </tr>\n",
       "    <tr>\n",
       "      <th>283955</th>\n",
       "      <td>extremely similar eo4 obviously isnt bad thing...</td>\n",
       "      <td>1</td>\n",
       "      <td>0</td>\n",
       "      <td>0</td>\n",
       "    </tr>\n",
       "    <tr>\n",
       "      <th>283956</th>\n",
       "      <td>typical overrated atlus trash game liked since...</td>\n",
       "      <td>1</td>\n",
       "      <td>0</td>\n",
       "      <td>0</td>\n",
       "    </tr>\n",
       "    <tr>\n",
       "      <th>283957</th>\n",
       "      <td>find story mode annoying characters intrusive ...</td>\n",
       "      <td>0</td>\n",
       "      <td>1</td>\n",
       "      <td>0</td>\n",
       "    </tr>\n",
       "    <tr>\n",
       "      <th>283958</th>\n",
       "      <td>pretty good certainly lacks visual audio polis...</td>\n",
       "      <td>0</td>\n",
       "      <td>1</td>\n",
       "      <td>0</td>\n",
       "    </tr>\n",
       "    <tr>\n",
       "      <th>283959</th>\n",
       "      <td>first game etrian series hard time got used ch...</td>\n",
       "      <td>0</td>\n",
       "      <td>1</td>\n",
       "      <td>0</td>\n",
       "    </tr>\n",
       "  </tbody>\n",
       "</table>\n",
       "<p>283960 rows × 4 columns</p>\n",
       "</div>"
      ],
      "text/plain": [
       "                                                  Comment  Negative  Neutral  \\\n",
       "0       everything oot near perfection really wonder g...         0        0   \n",
       "1       wont bore everyone already saying amazing game...         0        0   \n",
       "2       anyone gives masterpiece 7 8 either hate astou...         0        0   \n",
       "3       im one people think greatest game time matter ...         0        0   \n",
       "4       game highest rated game metacritic good reason...         0        0   \n",
       "...                                                   ...       ...      ...   \n",
       "283955  extremely similar eo4 obviously isnt bad thing...         1        0   \n",
       "283956  typical overrated atlus trash game liked since...         1        0   \n",
       "283957  find story mode annoying characters intrusive ...         0        1   \n",
       "283958  pretty good certainly lacks visual audio polis...         0        1   \n",
       "283959  first game etrian series hard time got used ch...         0        1   \n",
       "\n",
       "        Positive  \n",
       "0              1  \n",
       "1              1  \n",
       "2              1  \n",
       "3              1  \n",
       "4              1  \n",
       "...          ...  \n",
       "283955         0  \n",
       "283956         0  \n",
       "283957         0  \n",
       "283958         0  \n",
       "283959         0  \n",
       "\n",
       "[283960 rows x 4 columns]"
      ]
     },
     "execution_count": 9,
     "metadata": {},
     "output_type": "execute_result"
    }
   ],
   "source": [
    "#one hot encode polarity\n",
    "\n",
    "p = df['Polarity']\n",
    "onehot = pd.get_dummies(p)\n",
    "df.drop(['Polarity', 'Platform', 'Userscore'], axis=1, inplace=True)\n",
    "df = pd.concat([df, onehot], axis=1)\n",
    "df = df.reset_index(drop=True)\n",
    "df"
   ]
  },
  {
   "cell_type": "code",
   "execution_count": 10,
   "metadata": {},
   "outputs": [
    {
     "name": "stdout",
     "output_type": "stream",
     "text": [
      "0         everything oot near perfection really wonder g...\n",
      "1         wont bore everyone already saying amazing game...\n",
      "2         anyone gives masterpiece 7 8 either hate astou...\n",
      "3         im one people think greatest game time matter ...\n",
      "4         game highest rated game metacritic good reason...\n",
      "                                ...                        \n",
      "283955    extremely similar eo4 obviously isnt bad thing...\n",
      "283956    typical overrated atlus trash game liked since...\n",
      "283957    find story mode annoying characters intrusive ...\n",
      "283958    pretty good certainly lacks visual audio polis...\n",
      "283959    first game etrian series hard time got used ch...\n",
      "Name: Comment, Length: 283960, dtype: object         Negative  Neutral  Positive\n",
      "0              0        0         1\n",
      "1              0        0         1\n",
      "2              0        0         1\n",
      "3              0        0         1\n",
      "4              0        0         1\n",
      "...          ...      ...       ...\n",
      "283955         1        0         0\n",
      "283956         1        0         0\n",
      "283957         0        1         0\n",
      "283958         0        1         0\n",
      "283959         0        1         0\n",
      "\n",
      "[283960 rows x 3 columns]\n"
     ]
    }
   ],
   "source": [
    "X = df['Comment']\n",
    "y = df.drop('Comment', axis=1)\n",
    "print(X, y)"
   ]
  },
  {
   "cell_type": "code",
   "execution_count": null,
   "metadata": {},
   "outputs": [],
   "source": [
    "#apply lancaster stemming\n",
    "\n",
    "import nltk\n",
    "from nltk.stem import LancasterStemmer\n",
    "from nltk.tokenize import sent_tokenize, word_tokenize\n",
    "\n",
    "lancaster = LancasterStemmer()\n",
    "\n",
    "def stemSentence(sentence):\n",
    "    token_words=word_tokenize(sentence)\n",
    "    token_words\n",
    "    stem_sentence=[]\n",
    "    for word in token_words:\n",
    "        stem_sentence.append(lancaster.stem(word))\n",
    "        stem_sentence.append(\" \")\n",
    "    return \"\".join(stem_sentence)\n",
    "\n",
    "XS = pd.DataFrame(X)\n",
    "for i in range(0, len(X)):\n",
    "    XS.loc[i] = stemSentence(X[i])\n",
    "    \n",
    "print(XS)"
   ]
  },
  {
   "cell_type": "code",
   "execution_count": null,
   "metadata": {},
   "outputs": [],
   "source": [
    "#dim reduction by freq filtering\n",
    "\n",
    "vect = CountVectorizer(strip_accents = 'unicode', max_df = .995, min_df = .005)\n",
    "XX = vect.fit_transform(XS['Comment'])\n",
    "\n",
    "tfidf = TfidfTransformer()\n",
    "XX = tfidf.fit_transform(XX)\n",
    "XX.shape"
   ]
  },
  {
   "cell_type": "code",
   "execution_count": null,
   "metadata": {},
   "outputs": [],
   "source": [
    "#dim reduction by SVD\n",
    "\n",
    "from numpy import array\n",
    "from scipy.sparse.linalg import svds\n",
    "\n",
    "u, s, v = svds(XX)\n",
    "u.shape"
   ]
  },
  {
   "cell_type": "code",
   "execution_count": null,
   "metadata": {},
   "outputs": [],
   "source": [
    "#dim reduction by clustering\n",
    "\n",
    "import numpy as np\n",
    "from sklearn import datasets, cluster\n",
    "\n",
    "agglo = cluster.FeatureAgglomeration(n_clusters = 42)\n",
    "agglo.fit(XX.toarray())\n",
    "XR = agglo.transform(XX.toarray())\n",
    "XR.shape"
   ]
  },
  {
   "cell_type": "code",
   "execution_count": null,
   "metadata": {},
   "outputs": [],
   "source": [
    "#train test split for each reduced df\n",
    "\n",
    "from sklearn.model_selection import train_test_split\n",
    "\n",
    "xtr, xte, ytr, yte = train_test_split(XX, p, test_size = 0.2, random_state = 42)\n",
    "xtru, xteu, ytru, yteu = train_test_split(u, p, test_size = 0.2, random_state = 42)\n",
    "xtrr, xter, ytrr, yter = train_test_split(XR, p, test_size = 0.2, random_state = 42)"
   ]
  },
  {
   "cell_type": "code",
   "execution_count": null,
   "metadata": {},
   "outputs": [],
   "source": [
    "#packages for validation\n",
    "\n",
    "from sklearn.model_selection import GridSearchCV\n",
    "import warnings\n",
    "from sklearn.exceptions import DataConversionWarning\n",
    "warnings.filterwarnings(action='ignore', category=DataConversionWarning)\n",
    "\n",
    "from sklearn.metrics import confusion_matrix \n",
    "from sklearn.metrics import classification_report\n",
    "\n",
    "report = pd.DataFrame()"
   ]
  },
  {
   "cell_type": "code",
   "execution_count": null,
   "metadata": {},
   "outputs": [],
   "source": [
    "knn = KNeighborsClassifier(300)\n",
    "knn.fit(xtr, ytr)\n",
    "ypr = knn.predict(xte)\n",
    "print(confusion_matrix(pd.DataFrame(classification_report(yte, ypr, output_dict=True)).transpose())\n",
    "\n",
    "#freq filtered model: accuracy of .41, not a good model"
   ]
  },
  {
   "cell_type": "code",
   "execution_count": null,
   "metadata": {
    "scrolled": true
   },
   "outputs": [],
   "source": [
    "knn = KNeighborsClassifier(300)\n",
    "knn.fit(xtru, ytru)\n",
    "ypr = knn.predict(xteu)\n",
    "print(confusion_matrix(pd.DataFrame(classification_report(yte, ypr, output_dict=True)).transpose())\n",
    "\n",
    "#SVD model: accuracy of .54, better than before"
   ]
  },
  {
   "cell_type": "code",
   "execution_count": null,
   "metadata": {},
   "outputs": [],
   "source": [
    "knn = KNeighborsClassifier(300)\n",
    "knn.fit(xtrr, ytrr)\n",
    "ypr = knn.predict(xter)\n",
    "print(confusion_matrix(pd.DataFrame(classification_report(yte, ypr, output_dict=True)).transpose())\n",
    "\n",
    "#clustered model: accuracy of .51, relatively ok performance"
   ]
  },
  {
   "cell_type": "code",
   "execution_count": null,
   "metadata": {},
   "outputs": [],
   "source": [
    "gnb = GaussianNB()\n",
    "gnb.fit(xtru, ytru)\n",
    "ypr = gnb.predict(xteu)\n",
    "print(confusion_matrix(pd.DataFrame(classification_report(yte, ypr, output_dict=True)).transpose())\n",
    "\n",
    "#skipped freq filtered df: GNB can't be performed on sparse matrix\n",
    "#SVD model: accuracy of .48, worse than KNN but much faster "
   ]
  },
  {
   "cell_type": "markdown",
   "metadata": {},
   "source": [
    "from sklearn.naive_bayes import GaussianNB\n",
    "from yellowbrick.classifier import ClassificationReport\n",
    "\n",
    "# Instantiate the classification model and visualizer\n",
    "bayes = GaussianNB()\n",
    "visualizer = ClassificationReport(bayes, classes=['Negative', 'Neutral', 'Positive'], support=True)\n",
    "\n",
    "visualizer.fit(xtru, ytru)  # Fit the visualizer and the model\n",
    "visualizer.score(xteu, yteu)  # Evaluate the model on the test data\n",
    "visualizer.show()             # Draw/show the data"
   ]
  },
  {
   "cell_type": "code",
   "execution_count": null,
   "metadata": {},
   "outputs": [],
   "source": []
  },
  {
   "cell_type": "code",
   "execution_count": null,
   "metadata": {},
   "outputs": [],
   "source": [
    "gnb = GaussianNB()\n",
    "gnb.fit(xtrr, ytrr)\n",
    "ypr = gnb.predict(xter)\n",
    "print(confusion_matrix(pd.DataFrame(classification_report(yte, ypr, output_dict=True)).transpose())\n",
    "\n",
    "#clustered model: accuracy of .5, same as above"
   ]
  },
  {
   "cell_type": "code",
   "execution_count": null,
   "metadata": {},
   "outputs": [],
   "source": [
    "#random forest was considered, but it is infeasible due to compute resources required"
   ]
  },
  {
   "cell_type": "code",
   "execution_count": null,
   "metadata": {},
   "outputs": [],
   "source": [
    "clf = make_pipeline(StandardScaler(), \n",
    "                    LinearSVC(random_state=0, tol=1e-5))\n",
    "clf.fit(xtru, ytru)\n",
    "ypr = clf.predict(xteu)\n",
    "print(confusion_matrix(pd.DataFrame(classification_report(yte, ypr, output_dict=True)).transpose())\n",
    "\n",
    "##skipped freq filtered df: SVC can't be performed on sparse matrix\n",
    "#SVD model: accuracy of .53, relatively good and fast performance"
   ]
  },
  {
   "cell_type": "code",
   "execution_count": null,
   "metadata": {},
   "outputs": [],
   "source": [
    "clf = make_pipeline(StandardScaler(), \n",
    "                    LinearSVC(random_state=0, tol=1e-5))\n",
    "clf.fit(xtrr, ytrr)\n",
    "ypr = clf.predict(xter)\n",
    "print(confusion_matrix(pd.DataFrame(classification_report(yte, ypr, output_dict=True)).transpose())\n",
    "\n",
    "#clustered model: accuracy of .55, best performance so far"
   ]
  },
  {
   "cell_type": "code",
   "execution_count": null,
   "metadata": {},
   "outputs": [],
   "source": [
    "#filtered freq df: highest accuracy of all models so far, but has high loss\n",
    "\n",
    "xtrnn, xtenn, ytrnn, ytenn = train_test_split(XX.toarray(), n, test_size = 0.2, random_state = 42)\n",
    "\n",
    "model1 = Sequential()\n",
    "model1.add(Dense(units=300, activation=\"relu\"))\n",
    "model1.add(Dropout(0.2))\n",
    "model1.add(Dense(units=300, activation=\"relu\"))\n",
    "model1.add(Dropout(0.2))\n",
    "model1.add(Dense(units=300, activation=\"relu\"))\n",
    "model1.add(Dropout(0.2))\n",
    "model1.add(Dense(units=30, activation=\"softmax\"))\n",
    "opt = tf.keras.optimizers.Adam(learning_rate=0.001)\n",
    "model1.compile(loss=\"sparse_categorical_crossentropy\", \n",
    "              optimizer=opt, \n",
    "              metrics=['accuracy'])\n",
    "model1.fit(xtrnn, ytrnn, epochs = 4)"
   ]
  },
  {
   "cell_type": "code",
   "execution_count": null,
   "metadata": {},
   "outputs": [],
   "source": [
    "#filtered freq df: .75 loss with .68 accuracy\n",
    "\n",
    "vloss1, vacc1 = model1.evaluate(xtenn, ytenn)\n",
    "vloss1, vacc1"
   ]
  },
  {
   "cell_type": "code",
   "execution_count": null,
   "metadata": {},
   "outputs": [],
   "source": [
    "yprnn = model1.predict(xtenn)\n",
    "print(confusion_matrix(pd.DataFrame(classification_report(yte, ypr, output_dict=True)).transpose())"
   ]
  },
  {
   "cell_type": "code",
   "execution_count": null,
   "metadata": {},
   "outputs": [],
   "source": [
    "#SVD df: worst performance of NN models\n",
    "\n",
    "xtrnn, xtenn, ytrnn, ytenn = train_test_split(u, n, test_size = 0.2, random_state = 42)\n",
    "\n",
    "model2 = Sequential()\n",
    "model2.add(Dense(units=300, activation=\"relu\"))\n",
    "model2.add(Dropout(0.2))\n",
    "model2.add(Dense(units=300, activation=\"relu\"))\n",
    "model2.add(Dropout(0.2))\n",
    "model2.add(Dense(units=300, activation=\"relu\"))\n",
    "model2.add(Dropout(0.2))\n",
    "model2.add(Dense(units=30, activation=\"softmax\"))\n",
    "opt = tf.keras.optimizers.Adam(learning_rate=0.001)\n",
    "model2.compile(loss=\"sparse_categorical_crossentropy\", \n",
    "              optimizer=opt, \n",
    "              metrics=['accuracy'])\n",
    "\n",
    "model2.fit(xtrnn, ytrnn, epochs = 4)"
   ]
  },
  {
   "cell_type": "code",
   "execution_count": null,
   "metadata": {},
   "outputs": [],
   "source": [
    "#SVD df: .96 loss with .53 accuracy\n",
    "\n",
    "vloss2, vacc2 = model2.evaluate(xtenn, ytenn)\n",
    "vloss2, vacc2"
   ]
  },
  {
   "cell_type": "code",
   "execution_count": null,
   "metadata": {},
   "outputs": [],
   "source": [
    "yprnn = model2.predict(xtenn)\n",
    "print(confusion_matrix(pd.DataFrame(classification_report(yte, ypr, output_dict=True)).transpose())"
   ]
  },
  {
   "cell_type": "code",
   "execution_count": null,
   "metadata": {},
   "outputs": [],
   "source": [
    "#clustered df: bad performance for NN\n",
    "\n",
    "xtrnn, xtenn, ytrnn, ytenn = train_test_split(XR, n, test_size = 0.2, random_state = 42)\n",
    "\n",
    "model3 = Sequential()\n",
    "model3.add(Dense(units=300, activation=\"relu\"))\n",
    "model3.add(Dropout(0.2))\n",
    "model3.add(Dense(units=300, activation=\"relu\"))\n",
    "model3.add(Dropout(0.2))\n",
    "model3.add(Dense(units=300, activation=\"relu\"))\n",
    "model3.add(Dropout(0.2))\n",
    "model3.add(Dense(units=30, activation=\"softmax\"))\n",
    "opt = tf.keras.optimizers.Adam(learning_rate=0.001)\n",
    "model3.compile(loss=\"sparse_categorical_crossentropy\", \n",
    "              optimizer=opt, \n",
    "              metrics=['accuracy'])\n",
    "\n",
    "model3.fit(xtrnn, ytrnn, epochs = 4)"
   ]
  },
  {
   "cell_type": "code",
   "execution_count": null,
   "metadata": {},
   "outputs": [],
   "source": [
    "#clustered df: .92 loss with .55 accuracy\n",
    "\n",
    "vloss3, vacc3 = model3.evaluate(xtenn, ytenn)\n",
    "vloss3, vacc3"
   ]
  },
  {
   "cell_type": "code",
   "execution_count": null,
   "metadata": {},
   "outputs": [],
   "source": [
    "yprnn = model3.predict(xtenn)\n",
    "print(confusion_matrix(pd.DataFrame(classification_report(yte, ypr, output_dict=True)).transpose())"
   ]
  }
 ],
 "metadata": {
  "kernelspec": {
   "display_name": "Python 3",
   "language": "python",
   "name": "python3"
  },
  "language_info": {
   "codemirror_mode": {
    "name": "ipython",
    "version": 3
   },
   "file_extension": ".py",
   "mimetype": "text/x-python",
   "name": "python",
   "nbconvert_exporter": "python",
   "pygments_lexer": "ipython3",
   "version": "3.8.6"
  }
 },
 "nbformat": 4,
 "nbformat_minor": 4
}
